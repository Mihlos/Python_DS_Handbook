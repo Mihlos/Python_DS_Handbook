{
 "cells": [
  {
   "cell_type": "markdown",
   "metadata": {},
   "source": [
    "## Atributos"
   ]
  },
  {
   "cell_type": "code",
   "execution_count": 1,
   "metadata": {},
   "outputs": [],
   "source": [
    "import numpy as np"
   ]
  },
  {
   "cell_type": "code",
   "execution_count": 3,
   "metadata": {},
   "outputs": [],
   "source": [
    "np.random.seed(0)"
   ]
  },
  {
   "cell_type": "code",
   "execution_count": 8,
   "metadata": {},
   "outputs": [],
   "source": [
    "np_array = np.random.randint(10, size=(3, 4, 5))"
   ]
  },
  {
   "cell_type": "code",
   "execution_count": 9,
   "metadata": {},
   "outputs": [
    {
     "data": {
      "text/plain": [
       "array([[[4, 3, 4, 4, 8],\n",
       "        [4, 3, 7, 5, 5],\n",
       "        [0, 1, 5, 9, 3],\n",
       "        [0, 5, 0, 1, 2]],\n",
       "\n",
       "       [[4, 2, 0, 3, 2],\n",
       "        [0, 7, 5, 9, 0],\n",
       "        [2, 7, 2, 9, 2],\n",
       "        [3, 3, 2, 3, 4]],\n",
       "\n",
       "       [[1, 2, 9, 1, 4],\n",
       "        [6, 8, 2, 3, 0],\n",
       "        [0, 6, 0, 6, 3],\n",
       "        [3, 8, 8, 8, 2]]])"
      ]
     },
     "execution_count": 9,
     "metadata": {},
     "output_type": "execute_result"
    }
   ],
   "source": [
    "np_array"
   ]
  },
  {
   "cell_type": "code",
   "execution_count": 10,
   "metadata": {},
   "outputs": [
    {
     "name": "stdout",
     "output_type": "stream",
     "text": [
      "ndim:  3\n",
      "shape:  (3, 4, 5)\n",
      "size:  60\n"
     ]
    }
   ],
   "source": [
    "print(\"ndim: \", np_array.ndim)\n",
    "print(\"shape: \", np_array.shape)\n",
    "print(\"size: \", np_array.size)"
   ]
  },
  {
   "cell_type": "code",
   "execution_count": 14,
   "metadata": {},
   "outputs": [
    {
     "name": "stdout",
     "output_type": "stream",
     "text": [
      "dtype:  int64\n",
      "itemsize:  8 bytes\n",
      "nbytes:  480\n"
     ]
    }
   ],
   "source": [
    "print(\"dtype: \", np_array.dtype)\n",
    "print(\"itemsize: \", np_array.itemsize, \"bytes\")\n",
    "print(\"nbytes: \", np_array.nbytes)"
   ]
  },
  {
   "cell_type": "markdown",
   "metadata": {},
   "source": [
    "## Accediendo a elementos"
   ]
  },
  {
   "cell_type": "code",
   "execution_count": null,
   "metadata": {},
   "outputs": [],
   "source": []
  }
 ],
 "metadata": {
  "kernelspec": {
   "display_name": "Python 3",
   "language": "python",
   "name": "python3"
  },
  "language_info": {
   "codemirror_mode": {
    "name": "ipython",
    "version": 3
   },
   "file_extension": ".py",
   "mimetype": "text/x-python",
   "name": "python",
   "nbconvert_exporter": "python",
   "pygments_lexer": "ipython3",
   "version": "3.9.0"
  }
 },
 "nbformat": 4,
 "nbformat_minor": 4
}
